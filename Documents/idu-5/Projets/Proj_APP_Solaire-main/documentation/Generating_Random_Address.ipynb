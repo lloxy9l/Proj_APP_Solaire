{
 "cells": [
  {
   "cell_type": "markdown",
   "id": "df9116fa",
   "metadata": {},
   "source": [
    "## `Task1` : Importing libraries "
   ]
  },
  {
   "cell_type": "code",
   "execution_count": 10,
   "id": "8108048c",
   "metadata": {},
   "outputs": [],
   "source": [
    "from geopy.geocoders import Nominatim\n",
    "from geopy.distance import geodesic\n",
    "import math \n",
    "import random\n",
    "import sqlite3"
   ]
  },
  {
   "cell_type": "markdown",
   "id": "678a7dc7",
   "metadata": {},
   "source": [
    "## `Task 2` :  Generate random addresses within a specified radius around a central address"
   ]
  },
  {
   "cell_type": "markdown",
   "id": "44c6d85f",
   "metadata": {},
   "source": [
    "### 1. Initialize Nominatim geocoder"
   ]
  },
  {
   "cell_type": "code",
   "execution_count": 5,
   "id": "e7176f4d",
   "metadata": {},
   "outputs": [],
   "source": [
    "geolocator = Nominatim(user_agent=\"my_geocoder\")"
   ]
  },
  {
   "cell_type": "markdown",
   "id": "075c166f",
   "metadata": {},
   "source": [
    "### 2. Geocode the central address"
   ]
  },
  {
   "cell_type": "markdown",
   "id": "281d5ae5",
   "metadata": {},
   "source": [
    "`Geocoding` is the process of converting an address (like \"1600 Pennsylvania Avenue NW\") into geographic coordinates"
   ]
  },
  {
   "cell_type": "code",
   "execution_count": 7,
   "id": "5c5457d4",
   "metadata": {},
   "outputs": [
    {
     "name": "stdout",
     "output_type": "stream",
     "text": [
      "Annecy, Haute-Savoie, Auvergne-Rhône-Alpes, France métropolitaine, France\n"
     ]
    }
   ],
   "source": [
    "# Aksing Nominatim api of OpenStreetMap platform <open source> to geocode adr\n",
    "central_address = \"Annecy\"\n",
    "central_location = geolocator.geocode(central_address)\n",
    "print(central_location)"
   ]
  },
  {
   "cell_type": "markdown",
   "id": "a1e4e357",
   "metadata": {},
   "source": [
    "### 3. Description of the process of generating random adresses "
   ]
  },
  {
   "cell_type": "markdown",
   "id": "5bbe3e49",
   "metadata": {},
   "source": [
    "To acheieve that, we need guys to follow those steps : \n",
    "1. Calculate a `random distance w` within the `radius`\n",
    "2. Generate a `random angle t`\n",
    "3. Convert `polar coordinates` to `Cartesian coordinates (x and y)`\n",
    "4. Adjust `coordinates`\n",
    "5. Reverse `geocode` to get `address`\n"
   ]
  },
  {
   "cell_type": "markdown",
   "id": "85fe2560",
   "metadata": {},
   "source": [
    "#### 3.1 Calculate a `random distance w` within the `radius`"
   ]
  },
  {
   "cell_type": "markdown",
   "id": "017d40a4",
   "metadata": {},
   "source": [
    "- The Earth is approximately `40,075 km`in `circumference` around the `equator`.\n",
    "- One `degree of latitude` corresponds to approximately `111 kilometers`.\n",
    "- So, to convert kilometers to degrees, `we divide the radius in kilometers by 111.0`."
   ]
  },
  {
   "cell_type": "markdown",
   "id": "a43e00da",
   "metadata": {},
   "source": [
    "#### 3.2 Calculate a `random distance w` within the `radius`"
   ]
  },
  {
   "cell_type": "markdown",
   "id": "3c918e06",
   "metadata": {},
   "source": [
    "- To ensure that the `generated point` fall `uniformly within the circular area`, we use a `square root transformation`.\n",
    "\n",
    "$$\n",
    "     w = radiusInDegrees * \\sqrt[2]{u}\n",
    "$$\n",
    "\n",
    "- Taking the `square root of u` ensures that points are `distributed evenly within the circle's area`.\n",
    "- `Multiplying radius` by `w` gives us a `random distance within the radius`.\n"
   ]
  },
  {
   "cell_type": "markdown",
   "id": "26f6dbe9",
   "metadata": {},
   "source": [
    "#### 3.2 Generate a `random angle t`:"
   ]
  },
  {
   "cell_type": "markdown",
   "id": "02a9c89a",
   "metadata": {},
   "source": [
    "- `t` is a `random angle` in radians within the range `[0, 2π]`.\n",
    "- Multiplying `v` by `2 * π` ensures `the angle is uniformly distributed around the circle`."
   ]
  },
  {
   "cell_type": "markdown",
   "id": "997cc0dd",
   "metadata": {},
   "source": [
    "#### 3.3 Generate a `random angle t`:"
   ]
  },
  {
   "cell_type": "markdown",
   "id": "7d3923db",
   "metadata": {},
   "source": [
    "- Convert from `polar coordinates (distance w, angle t)` to `Cartesian coordinates (x, y)`.\n",
    "- `x` represents the `horizontal offset` from the central point.\n",
    "- `y` represents the `vertical offset` from the central point.\n"
   ]
  },
  {
   "cell_type": "markdown",
   "id": "fe7db332",
   "metadata": {},
   "source": [
    "#### 3.4 Adjust coordinates :"
   ]
  },
  {
   "cell_type": "markdown",
   "id": "ec9314e4",
   "metadata": {},
   "source": [
    "- Add the `calculated offsets x and y` to the `latitude and longitude` of the `central point`.\n",
    "- This adjustment ensures that the `generated coordinates are within the circular area centered around the central point`.\n"
   ]
  },
  {
   "cell_type": "markdown",
   "id": "ec8702bc",
   "metadata": {},
   "source": [
    "#### 3.5 Reverse geocode to get address :"
   ]
  },
  {
   "cell_type": "markdown",
   "id": "f33434cd",
   "metadata": {},
   "source": [
    "- Use the `adjusted latitude`, `longitude` coordinates to perform `reverse geocoding`\n",
    "- This retrieves the `address corresponding` to the `generated coordinates` using the `Nominatim api geocoder`"
   ]
  },
  {
   "cell_type": "markdown",
   "id": "7c1af17f",
   "metadata": {},
   "source": [
    "### 3. build a function that launch the process of generating random adresses "
   ]
  },
  {
   "cell_type": "code",
   "execution_count": 13,
   "id": "41cc2634",
   "metadata": {},
   "outputs": [],
   "source": [
    "def find_addresses_within_radius(central_address, radius_km, num_points=10):\n",
    "    \n",
    "    # Initialize Nominatim geocoder\n",
    "    geolocator = Nominatim(user_agent=\"my_geocoder\")\n",
    "\n",
    "    # Geocode the central address\n",
    "    central_location = geolocator.geocode(central_address)\n",
    "    print(central_location)\n",
    "    \n",
    "    if central_location:\n",
    "        central_point = (central_location.latitude, central_location.longitude)\n",
    "        addresses_within_radius = []\n",
    "\n",
    "        for _ in range(num_points):\n",
    "            # Generate random coordinates within the radius\n",
    "            u = random.random()\n",
    "            v = random.random()\n",
    "            \n",
    "            radius_in_degrees = radius_km / 111.0\n",
    "            \n",
    "            w = radius_in_degrees * (u ** 0.5)\n",
    "            t = 2 * 3.141592653589793 * v\n",
    "            x = w * math.cos(t)\n",
    "            y = w * math.sin(t)\n",
    "\n",
    "            # Adjust coordinates to be within the circular area\n",
    "            adjusted_latitude = central_point[0] + y\n",
    "            adjusted_longitude = central_point[1] + x\n",
    "\n",
    "            # Reverse geocode to get address\n",
    "            address = geolocator.reverse((adjusted_latitude, adjusted_longitude))\n",
    "            addresses_within_radius.append((address.address, adjusted_latitude, adjusted_longitude))\n",
    "\n",
    "        return [[central_location.address, central_location.longitude, central_location.latitude],addresses_within_radius]\n",
    "    else:\n",
    "        return None"
   ]
  },
  {
   "cell_type": "markdown",
   "id": "25adab5b",
   "metadata": {},
   "source": [
    "## `Task 3` : Test my function "
   ]
  },
  {
   "cell_type": "code",
   "execution_count": 14,
   "id": "69e872ca",
   "metadata": {},
   "outputs": [
    {
     "name": "stdout",
     "output_type": "stream",
     "text": [
      "Annecy-le-Vieux, Annecy, Haute-Savoie, Auvergne-Rhône-Alpes, France métropolitaine, 74940, France\n",
      "Addresses within 5 km of Annecy le vieux:\n",
      "-------------------------------\n",
      "- Address: 860, Route des Jouvenons, Les Hauts de Menthonnex, Les Jouvenons, Argonay, Annecy, Haute-Savoie, Auvergne-Rhône-Alpes, France métropolitaine, 74370, France\n",
      "  Latitude: 45.951644394961534\n",
      "  Longitude: 6.158350101857308\n",
      "\n",
      "-------------------------------\n",
      "-------------------------------\n",
      "- Address: Rue du Barrioz, Pringy, Les Recouts, Pringy, Annecy, Haute-Savoie, Auvergne-Rhône-Alpes, France métropolitaine, 74370, France\n",
      "  Latitude: 45.952084015501605\n",
      "  Longitude: 6.130405855707119\n",
      "\n",
      "-------------------------------\n",
      "-------------------------------\n",
      "- Address: Route Forestière du Creux du Loup, Annecy-le-Vieux, Annecy, Haute-Savoie, Auvergne-Rhône-Alpes, France métropolitaine, 74940, France\n",
      "  Latitude: 45.90637782677699\n",
      "  Longitude: 6.172449377522111\n",
      "\n",
      "-------------------------------\n",
      "-------------------------------\n",
      "- Address: 35, Avenue de la Plaine, Annecy, Haute-Savoie, Auvergne-Rhône-Alpes, France métropolitaine, 74000, France\n",
      "  Latitude: 45.917177686495016\n",
      "  Longitude: 6.127914656847399\n",
      "\n",
      "-------------------------------\n",
      "-------------------------------\n",
      "- Address: Vival, 5, Avenue du Pont Neuf, Le Carillon, Cran-Gevrier, Annecy, Haute-Savoie, Auvergne-Rhône-Alpes, France métropolitaine, 74960, France\n",
      "  Latitude: 45.89702305120647\n",
      "  Longitude: 6.112700468818467\n",
      "\n",
      "-------------------------------\n",
      "-------------------------------\n",
      "- Address: Villa Ancilia, 5, Allée du Coteau, Annecy-le-Vieux, Annecy, Haute-Savoie, Auvergne-Rhône-Alpes, France métropolitaine, 74940, France\n",
      "  Latitude: 45.92695530714792\n",
      "  Longitude: 6.128244891466708\n",
      "\n",
      "-------------------------------\n",
      "-------------------------------\n",
      "- Address: Plage d'Albigny, Voie Verte Tour du Lac d'Annecy, Annecy-le-Vieux, Annecy, Haute-Savoie, Auvergne-Rhône-Alpes, France métropolitaine, 74940, France\n",
      "  Latitude: 45.901227595571754\n",
      "  Longitude: 6.148880918008003\n",
      "\n",
      "-------------------------------\n",
      "-------------------------------\n",
      "- Address: Route Forestière du Creux du Loup, Annecy-le-Vieux, Annecy, Haute-Savoie, Auvergne-Rhône-Alpes, France métropolitaine, 74940, France\n",
      "  Latitude: 45.909003211303215\n",
      "  Longitude: 6.183644458843982\n",
      "\n",
      "-------------------------------\n",
      "-------------------------------\n",
      "- Address: Voie des Aravis, Les Glaisins, Annecy-le-Vieux, Annecy, Haute-Savoie, Auvergne-Rhône-Alpes, France métropolitaine, 74940, France\n",
      "  Latitude: 45.93820161242322\n",
      "  Longitude: 6.160323595087907\n",
      "\n",
      "-------------------------------\n",
      "-------------------------------\n",
      "- Address: 121, Route des Argos, Les Éculées, Annecy-le-Vieux, Annecy, Haute-Savoie, Auvergne-Rhône-Alpes, France métropolitaine, 74940, France\n",
      "  Latitude: 45.94004042819418\n",
      "  Longitude: 6.155166322058103\n",
      "\n",
      "-------------------------------\n",
      "-------------------------------\n",
      "- Address: Route de la Ravoire, Pringy, Le Plateau, Pringy, Annecy, Haute-Savoie, Auvergne-Rhône-Alpes, France métropolitaine, 74370, France\n",
      "  Latitude: 45.93979209474724\n",
      "  Longitude: 6.121580958513932\n",
      "\n",
      "-------------------------------\n",
      "-------------------------------\n",
      "- Address: Auberge sur les bois, 79, Route de Thônes, Brunier, Annecy-le-Vieux, Annecy, Haute-Savoie, Auvergne-Rhône-Alpes, France métropolitaine, 74940, France\n",
      "  Latitude: 45.92180657716665\n",
      "  Longitude: 6.171573074913969\n",
      "\n",
      "-------------------------------\n",
      "-------------------------------\n",
      "- Address: Route des Sarves, Metz-Tessy, Épagny Metz-Tessy, Annecy, Haute-Savoie, Auvergne-Rhône-Alpes, France métropolitaine, 74370, France\n",
      "  Latitude: 45.9266371728358\n",
      "  Longitude: 6.114087104973291\n",
      "\n",
      "-------------------------------\n",
      "-------------------------------\n",
      "- Address: A 41, Le Clos Village, Meythet, Annecy, Haute-Savoie, Auvergne-Rhône-Alpes, France métropolitaine, 74960, France\n",
      "  Latitude: 45.91745497119389\n",
      "  Longitude: 6.099808151366132\n",
      "\n",
      "-------------------------------\n",
      "-------------------------------\n",
      "- Address: Route des Argos, Argos, Annecy-le-Vieux, Annecy, Haute-Savoie, Auvergne-Rhône-Alpes, France métropolitaine, 74940, France\n",
      "  Latitude: 45.93970822928265\n",
      "  Longitude: 6.1637295978832345\n",
      "\n",
      "-------------------------------\n",
      "-------------------------------\n",
      "- Address: Lycée Gabriel Fauré, 2, Avenue du Rhône, Le Clos Saint-Michel, Les Balmettes, Annecy, Haute-Savoie, Auvergne-Rhône-Alpes, France métropolitaine, 74000, France\n",
      "  Latitude: 45.89741542342267\n",
      "  Longitude: 6.1206379690581\n",
      "\n",
      "-------------------------------\n",
      "-------------------------------\n",
      "- Address: Sentier de la Grande Jeanne, La Grande Jeanne, Annecy, Haute-Savoie, Auvergne-Rhône-Alpes, France métropolitaine, 74000, France\n",
      "  Latitude: 45.88188266206346\n",
      "  Longitude: 6.136396419578888\n",
      "\n",
      "-------------------------------\n",
      "-------------------------------\n",
      "- Address: 35 / 37 / 39 / 41, Rue des Terrasses de Proméry, Proméry, Planchamps, Pringy, Annecy, Haute-Savoie, Auvergne-Rhône-Alpes, France métropolitaine, 74370, France\n",
      "  Latitude: 45.95243971187396\n",
      "  Longitude: 6.1122265660161474\n",
      "\n",
      "-------------------------------\n",
      "-------------------------------\n",
      "- Address: Rond-Point Route du Semnoz, Le Clos Saint-Michel, La Petite Jeanne, Annecy, Haute-Savoie, Auvergne-Rhône-Alpes, France métropolitaine, 74000, France\n",
      "  Latitude: 45.89411564529622\n",
      "  Longitude: 6.130113355932096\n",
      "\n",
      "-------------------------------\n",
      "-------------------------------\n",
      "- Address: Galerie Marc Limousin, Côte Perrière, Le Clos Saint-Michel, Les Balmettes, Annecy, Haute-Savoie, Auvergne-Rhône-Alpes, France métropolitaine, 74000, France\n",
      "  Latitude: 45.89743147782963\n",
      "  Longitude: 6.127981778381098\n",
      "\n",
      "-------------------------------\n",
      "-------------------------------\n",
      "- Address: 30967, Route du Semnoz, La Petite Jeanne, Annecy, Haute-Savoie, Auvergne-Rhône-Alpes, France métropolitaine, 74000, France\n",
      "  Latitude: 45.89101525211602\n",
      "  Longitude: 6.13253636555261\n",
      "\n",
      "-------------------------------\n",
      "-------------------------------\n",
      "- Address: A 41, Les Contamines, Les Recouts, Saint-Martin-Bellevue, Fillière, Annecy, Haute-Savoie, Auvergne-Rhône-Alpes, France métropolitaine, 74370, France\n",
      "  Latitude: 45.961105177489955\n",
      "  Longitude: 6.130943086377889\n",
      "\n",
      "-------------------------------\n",
      "-------------------------------\n",
      "- Address: Sentier de Talabar, Les Barattes, Annecy-le-Vieux, Annecy, Haute-Savoie, Auvergne-Rhône-Alpes, France métropolitaine, 74940, France\n",
      "  Latitude: 45.909948894101724\n",
      "  Longitude: 6.169551517821189\n",
      "\n",
      "-------------------------------\n",
      "-------------------------------\n",
      "- Address: Chemin du Téléphérique, Les Champs, Veyrier-du-Lac, Annecy, Haute-Savoie, Auvergne-Rhône-Alpes, France métropolitaine, 74290, France\n",
      "  Latitude: 45.88664964700716\n",
      "  Longitude: 6.172667959544841\n",
      "\n",
      "-------------------------------\n",
      "-------------------------------\n",
      "- Address: Route de Naves, Le Bulloz, Annecy-le-Vieux, Annecy, Haute-Savoie, Auvergne-Rhône-Alpes, France métropolitaine, 74940, France\n",
      "  Latitude: 45.92445882125673\n",
      "  Longitude: 6.1764189508227485\n",
      "\n",
      "-------------------------------\n",
      "-------------------------------\n",
      "- Address: 170, Rue de la Gare de Pringy, Pringy, Le Plateau, Pringy, Annecy, Haute-Savoie, Auvergne-Rhône-Alpes, France métropolitaine, 74370, France\n",
      "  Latitude: 45.93877410458633\n",
      "  Longitude: 6.1235215186141225\n",
      "\n",
      "-------------------------------\n",
      "-------------------------------\n",
      "- Address: Chemin de Bois Rosset, Pringy, Annecy, Haute-Savoie, Auvergne-Rhône-Alpes, France métropolitaine, 74370, France\n",
      "  Latitude: 45.95127767625445\n",
      "  Longitude: 6.1365901230031925\n",
      "\n",
      "-------------------------------\n",
      "-------------------------------\n",
      "- Address: Chemin des Ponts, Metz-Tessy, Épagny Metz-Tessy, Annecy, Haute-Savoie, Auvergne-Rhône-Alpes, France métropolitaine, 74370, France\n",
      "  Latitude: 45.93275905651096\n",
      "  Longitude: 6.122455550825637\n",
      "\n",
      "-------------------------------\n",
      "-------------------------------\n",
      "- Address: 38, Chemin du Maquis, Annecy, Haute-Savoie, Auvergne-Rhône-Alpes, France métropolitaine, 74000, France\n",
      "  Latitude: 45.92019686415109\n",
      "  Longitude: 6.132722243951854\n",
      "\n",
      "-------------------------------\n",
      "-------------------------------\n",
      "- Address: Chemin du Moulin, Les Contamines, Ancien Moulin de Viéran, Pringy, Annecy, Haute-Savoie, Auvergne-Rhône-Alpes, France métropolitaine, 74370, France\n",
      "  Latitude: 45.95545165569407\n",
      "  Longitude: 6.119180557371879\n",
      "\n",
      "-------------------------------\n"
     ]
    }
   ],
   "source": [
    "central_address = \"Annecy le vieux\"\n",
    "central_address_cordinates = geolocator.geocode(central_address)\n",
    "radius_km = 5  \n",
    "num_points = 30 \n",
    "addresses_within_radius = find_addresses_within_radius(central_address, radius_km, num_points)\n",
    "\n",
    "if addresses_within_radius:\n",
    "    print(\"Addresses within {} km of {}:\".format(radius_km, central_address))\n",
    "    for address_info in addresses_within_radius[1]:\n",
    "        print(\"-------------------------------\")\n",
    "        print(\"- Address:\", address_info[0])\n",
    "        print(\"  Latitude:\", address_info[1])\n",
    "        print(\"  Longitude:\", address_info[2])\n",
    "        print()\n",
    "        print(\"-------------------------------\")\n",
    "        \n",
    "else:\n",
    "    print(\"Central address not found.\")"
   ]
  },
  {
   "cell_type": "code",
   "execution_count": null,
   "id": "915c45a0",
   "metadata": {},
   "outputs": [],
   "source": []
  },
  {
   "cell_type": "code",
   "execution_count": null,
   "id": "1a77528d",
   "metadata": {},
   "outputs": [],
   "source": []
  },
  {
   "cell_type": "code",
   "execution_count": 15,
   "id": "c6226c35",
   "metadata": {},
   "outputs": [
    {
     "name": "stdout",
     "output_type": "stream",
     "text": [
      "Database Successfully Connected to SQLite !\n",
      "Error while connecting to sqlite no such table: Zone\n",
      "The SQLite connection is closed !\n"
     ]
    }
   ],
   "source": [
    "try:\n",
    "    sqliteConnection = sqlite3.connect('GPSCordinates.db')\n",
    "    cursor = sqliteConnection.cursor()\n",
    "    print(\"Database Successfully Connected to SQLite !\")\n",
    "    \n",
    "    # build the sqlite insert parametrized query \n",
    "    sqlite_insert_Query = '''insert into Zone (rayon_r,longitude_x_origine,latitude_y_origine, address_origine)\n",
    "                            values (?, ?, ?, ?);'''\n",
    "    \n",
    "    # build a data tuple \n",
    "    data_tuple = (radius_km, addresses_within_radius[0][1], addresses_within_radius[0][2], addresses_within_radius[0][0])\n",
    "    \n",
    "    # execute the query \n",
    "    cursor.execute(sqlite_insert_Query, data_tuple)\n",
    "    \n",
    "    # commit the resulte\n",
    "    sqliteConnection.commit()\n",
    "\n",
    "#     for address_info in addresses_within_radius[1]:\n",
    "#         sqlite_insert_Query = \"select sqlite_version();\"\n",
    "#         cursor.execute(sqlite_select_Query)\n",
    "#         record = cursor.fetchall()\n",
    "#         print(\"SQLite Database Version is: \", record)\n",
    "        \n",
    "    # close the connection\n",
    "    cursor.close()\n",
    "\n",
    "except sqlite3.Error as error:\n",
    "    print(\"Error while connecting to sqlite\", error)\n",
    "    \n",
    "finally:\n",
    "    if sqliteConnection:\n",
    "        sqliteConnection.close()\n",
    "        print(\"The SQLite connection is closed !\")"
   ]
  },
  {
   "cell_type": "code",
   "execution_count": null,
   "id": "7b4b4d8e",
   "metadata": {},
   "outputs": [],
   "source": []
  }
 ],
 "metadata": {
  "kernelspec": {
   "display_name": "Python 3 (ipykernel)",
   "language": "python",
   "name": "python3"
  },
  "language_info": {
   "codemirror_mode": {
    "name": "ipython",
    "version": 3
   },
   "file_extension": ".py",
   "mimetype": "text/x-python",
   "name": "python",
   "nbconvert_exporter": "python",
   "pygments_lexer": "ipython3",
   "version": "3.11.5"
  }
 },
 "nbformat": 4,
 "nbformat_minor": 5
}
